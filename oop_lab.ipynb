{
  "nbformat": 4,
  "nbformat_minor": 0,
  "metadata": {
    "colab": {
      "provenance": [],
      "toc_visible": true,
      "authorship_tag": "ABX9TyPgi3vZbaIo/2S9Vdzh2a+I",
      "include_colab_link": true
    },
    "kernelspec": {
      "name": "python3",
      "display_name": "Python 3"
    },
    "language_info": {
      "name": "python"
    }
  },
  "cells": [
    {
      "cell_type": "markdown",
      "metadata": {
        "id": "view-in-github",
        "colab_type": "text"
      },
      "source": [
        "<a href=\"https://colab.research.google.com/github/sufiyaanahmed/1BM21AI125/blob/main/oop_lab.ipynb\" target=\"_parent\"><img src=\"https://colab.research.google.com/assets/colab-badge.svg\" alt=\"Open In Colab\"/></a>"
      ]
    },
    {
      "cell_type": "code",
      "source": [
        "def find_largest_element(input_list):\n",
        "    if not input_list:\n",
        "        return \"The list is empty.\"\n",
        "\n",
        "    largest_element = input_list[0]\n",
        "\n",
        "    for element in input_list:\n",
        "        if element > largest_element:\n",
        "            largest_element = element\n",
        "\n",
        "    return largest_element\n",
        "\n",
        "# Example usage:\n",
        "my_list = [12, 45, 78, 34, 56, 89, 23]\n",
        "result = find_largest_element(my_list)\n",
        "\n",
        "print(f\"The largest element in the list is: {result}\")\n"
      ],
      "metadata": {
        "colab": {
          "base_uri": "https://localhost:8080/"
        },
        "id": "FfJKimvr9u_6",
        "outputId": "1764742d-5907-4cd9-8f56-b1440cbaf381"
      },
      "execution_count": 7,
      "outputs": [
        {
          "output_type": "stream",
          "name": "stdout",
          "text": [
            "The largest element in the list is: 89\n"
          ]
        }
      ]
    },
    {
      "cell_type": "code",
      "source": [
        "import math\n",
        "\n",
        "def hexagon_area(side_length):\n",
        "    area = (3 * math.sqrt(3) / 2) * (side_length ** 2)\n",
        "    return area\n",
        "\n",
        "# Example usage:\n",
        "side_length = 5\n",
        "area_result = hexagon_area(side_length)\n",
        "\n",
        "print(f\"The area of a regular hexagon with side length {side_length} is: {area_result}\")\n"
      ],
      "metadata": {
        "colab": {
          "base_uri": "https://localhost:8080/"
        },
        "id": "o6YaZnpP90dJ",
        "outputId": "fd1a92f2-7abc-4fc9-fdc2-b91a8e785b59"
      },
      "execution_count": 6,
      "outputs": [
        {
          "output_type": "stream",
          "name": "stdout",
          "text": [
            "The area of a regular hexagon with side length 5 is: 64.9519052838329\n"
          ]
        }
      ]
    },
    {
      "cell_type": "code",
      "source": [
        "import re\n",
        "\n",
        "def is_valid_email(email):\n",
        "    # Define the email validation pattern\n",
        "    pattern = r'^[a-zA-Z0-9][a-zA-Z0-9._-]*@[a-zA-Z0-9]+\\.[a-zA-Z]{1,}$'\n",
        "\n",
        "    # Use regular expression to check if the email matches the pattern\n",
        "    return bool(re.match(pattern, email))\n",
        "\n",
        "# Example usage:\n",
        "email_address = \"example@email.com\"\n",
        "result = is_valid_email(email_address)\n",
        "\n",
        "print(f\"Is {email_address} a valid email address? {result}\")\n"
      ],
      "metadata": {
        "colab": {
          "base_uri": "https://localhost:8080/"
        },
        "id": "yP7egow_92LJ",
        "outputId": "5bf790c0-f1ff-4ea1-c618-31d46858e2c1"
      },
      "execution_count": 5,
      "outputs": [
        {
          "output_type": "stream",
          "name": "stdout",
          "text": [
            "Is example@email.com a valid email address? True\n"
          ]
        }
      ]
    },
    {
      "cell_type": "code",
      "source": [
        "def encrypt(text, shift):\n",
        "    encrypted_text = \"\"\n",
        "    for char in text:\n",
        "        if char.isalpha():\n",
        "            ascii_offset = ord('A') if char.isupper() else ord('a')\n",
        "            encrypted_char = chr((ord(char) - ascii_offset + shift) % 26 + ascii_offset)\n",
        "            encrypted_text += encrypted_char\n",
        "        else:\n",
        "            encrypted_text += char\n",
        "    return encrypted_text\n",
        "\n",
        "def decrypt(encrypted_text, shift):\n",
        "    return encrypt(encrypted_text, -shift)\n",
        "\n",
        "# Example usage:\n",
        "text_to_encrypt = \"Hello, World!\"\n",
        "shift_value = 3\n",
        "\n",
        "encrypted_text = encrypt(text_to_encrypt, shift_value)\n",
        "print(f\"Encrypted text: {encrypted_text}\")\n",
        "\n",
        "decrypted_text = decrypt(encrypted_text, shift_value)\n",
        "print(f\"Decrypted text: {decrypted_text}\")\n"
      ],
      "metadata": {
        "colab": {
          "base_uri": "https://localhost:8080/"
        },
        "id": "VBmLe2M996jS",
        "outputId": "c4bbdabd-89e0-4abd-b31b-cf9cc426a61f"
      },
      "execution_count": 4,
      "outputs": [
        {
          "output_type": "stream",
          "name": "stdout",
          "text": [
            "Encrypted text: Khoor, Zruog!\n",
            "Decrypted text: Hello, World!\n"
          ]
        }
      ]
    },
    {
      "cell_type": "code",
      "source": [
        "def get_palindromes(input_string):\n",
        "    words = input_string.split()\n",
        "    palindromes = [word for word in words if word == word[::-1]]\n",
        "    return palindromes\n",
        "\n",
        "# Example usage:\n",
        "input_string = \"level radar python madam racecar\"\n",
        "result = get_palindromes(input_string)\n",
        "\n",
        "print(f\"Palindromes in the string: {result}\")\n"
      ],
      "metadata": {
        "colab": {
          "base_uri": "https://localhost:8080/"
        },
        "id": "P77Fjo3x9_sC",
        "outputId": "09087911-e4c5-4f7b-f290-61eb5f676c82"
      },
      "execution_count": 3,
      "outputs": [
        {
          "output_type": "stream",
          "name": "stdout",
          "text": [
            "Palindromes in the string: ['level', 'radar', 'madam', 'racecar']\n"
          ]
        }
      ]
    }
  ]
}